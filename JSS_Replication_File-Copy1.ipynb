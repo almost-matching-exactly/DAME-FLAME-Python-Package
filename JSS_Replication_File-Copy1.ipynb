{
 "cells": [
  {
   "cell_type": "code",
   "execution_count": 1,
   "metadata": {},
   "outputs": [],
   "source": [
    "import pandas as pd\n",
    "import dame_flame\n",
    "import numpy as np"
   ]
  },
  {
   "cell_type": "code",
   "execution_count": 2,
   "metadata": {},
   "outputs": [],
   "source": [
    "np.random.seed(1234)\n",
    "df = pd.DataFrame([[0,1,1,1,0,5.1], [0,0,1,0,0,5.11], [1,0,1,1,1,6.5],\n",
    "        [1,1,1,1,1,6]], \n",
    "        columns=[\"x1\", \"x2\", \"x3\", \"x4\", \"treated\", \"outcome\"])"
   ]
  },
  {
   "cell_type": "code",
   "execution_count": 3,
   "metadata": {},
   "outputs": [
    {
     "name": "stdout",
     "output_type": "stream",
     "text": [
      "   x1  x2  x3  x4  treated  outcome\n",
      "0   0   1   1   1        0     5.10\n",
      "1   0   0   1   0        0     5.11\n",
      "2   1   0   1   1        1     6.50\n",
      "3   1   1   1   1        1     6.00\n"
     ]
    }
   ],
   "source": [
    "print(df.head())"
   ]
  },
  {
   "cell_type": "code",
   "execution_count": 4,
   "metadata": {},
   "outputs": [],
   "source": [
    "model = dame_flame.matching.FLAME()\n"
   ]
  },
  {
   "cell_type": "code",
   "execution_count": 5,
   "metadata": {},
   "outputs": [],
   "source": [
    "model.fit(df, \"treated\", \"outcome\")\n"
   ]
  },
  {
   "cell_type": "code",
   "execution_count": 6,
   "metadata": {},
   "outputs": [
    {
     "name": "stdout",
     "output_type": "stream",
     "text": [
      "All units have been matched.\n"
     ]
    }
   ],
   "source": [
    "result = model.predict(df)"
   ]
  },
  {
   "cell_type": "code",
   "execution_count": 7,
   "metadata": {},
   "outputs": [
    {
     "name": "stdout",
     "output_type": "stream",
     "text": [
      "  x1 x2 x3 x4\n",
      "0  *  1  1  1\n",
      "1  *  0  1  *\n",
      "2  *  0  1  *\n",
      "3  *  1  1  1\n"
     ]
    }
   ],
   "source": [
    "print(result)"
   ]
  },
  {
   "cell_type": "code",
   "execution_count": 8,
   "metadata": {},
   "outputs": [
    {
     "name": "stdout",
     "output_type": "stream",
     "text": [
      "[[0, 3], [1, 2]]\n"
     ]
    }
   ],
   "source": [
    "print(model.units_per_group)\n"
   ]
  },
  {
   "cell_type": "code",
   "execution_count": 9,
   "metadata": {},
   "outputs": [
    {
     "name": "stdout",
     "output_type": "stream",
     "text": [
      "0    1.0\n",
      "1    1.0\n",
      "2    1.0\n",
      "3    1.0\n",
      "Name: weights, dtype: float64\n"
     ]
    }
   ],
   "source": [
    "print(model.groups_per_unit)"
   ]
  },
  {
   "cell_type": "code",
   "execution_count": 10,
   "metadata": {},
   "outputs": [
    {
     "name": "stdout",
     "output_type": "stream",
     "text": [
      "  x1  x2  x3  x4  treated  outcome\n",
      "0  *   1   1   1        0      5.1\n",
      "3  *   1   1   1        1      6.0\n"
     ]
    }
   ],
   "source": [
    "mmg = dame_flame.utils.post_processing.MG(matching_object=model, unit_ids=0)\n",
    "print(mmg)"
   ]
  },
  {
   "cell_type": "code",
   "execution_count": 11,
   "metadata": {},
   "outputs": [
    {
     "name": "stdout",
     "output_type": "stream",
     "text": [
      "1\n"
     ]
    }
   ],
   "source": [
    "cate = dame_flame.utils.post_processing.CATE(matching_object=model, unit_ids=0)\n",
    "print(round(cate))"
   ]
  },
  {
   "cell_type": "code",
   "execution_count": 12,
   "metadata": {},
   "outputs": [
    {
     "name": "stdout",
     "output_type": "stream",
     "text": [
      "1.145000\n"
     ]
    }
   ],
   "source": [
    "ate = dame_flame.utils.post_processing.ATE(matching_object=model)\n",
    "print(f'{ate:.6f}')"
   ]
  },
  {
   "cell_type": "code",
   "execution_count": 13,
   "metadata": {},
   "outputs": [
    {
     "name": "stdout",
     "output_type": "stream",
     "text": [
      "1.145000\n"
     ]
    }
   ],
   "source": [
    "att = dame_flame.utils.post_processing.ATT(matching_object=model)\n",
    "print(f'{att:.6f}')"
   ]
  },
  {
   "cell_type": "code",
   "execution_count": 14,
   "metadata": {},
   "outputs": [
    {
     "name": "stdout",
     "output_type": "stream",
     "text": [
      "1.145000\n",
      "0.030012\n"
     ]
    }
   ],
   "source": [
    "ate, var = dame_flame.utils.post_processing.var_ATE(matching_object=model)\n",
    "print(f'{ate:.6f}')\n",
    "print(f'{var:.6f}')"
   ]
  },
  {
   "cell_type": "code",
   "execution_count": null,
   "metadata": {},
   "outputs": [],
   "source": []
  }
 ],
 "metadata": {
  "kernelspec": {
   "display_name": "Python 3",
   "language": "python",
   "name": "python3"
  },
  "language_info": {
   "codemirror_mode": {
    "name": "ipython",
    "version": 3
   },
   "file_extension": ".py",
   "mimetype": "text/x-python",
   "name": "python",
   "nbconvert_exporter": "python",
   "pygments_lexer": "ipython3",
   "version": "3.6.5"
  }
 },
 "nbformat": 4,
 "nbformat_minor": 4
}
